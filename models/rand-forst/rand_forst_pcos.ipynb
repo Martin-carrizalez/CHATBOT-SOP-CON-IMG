{
 "cells": [
  {
   "cell_type": "code",
   "execution_count": null,
   "id": "4a87b400-d975-47ce-b28a-83d9c9f079d8",
   "metadata": {},
   "outputs": [],
   "source": []
  }
 ],
 "metadata": {
  "kernelspec": {
   "display_name": "",
   "name": ""
  },
  "language_info": {
   "name": ""
  }
 },
 "nbformat": 4,
 "nbformat_minor": 5
}
